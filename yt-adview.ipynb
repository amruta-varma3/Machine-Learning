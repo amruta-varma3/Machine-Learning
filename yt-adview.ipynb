{
 "cells": [
  {
   "cell_type": "code",
   "execution_count": 1,
   "id": "05f9ba04",
   "metadata": {
    "_cell_guid": "b1076dfc-b9ad-4769-8c92-a6c4dae69d19",
    "_uuid": "8f2839f25d086af736a60e9eeb907d3b93b6e0e5",
    "execution": {
     "iopub.execute_input": "2022-02-10T12:01:16.699356Z",
     "iopub.status.busy": "2022-02-10T12:01:16.698582Z",
     "iopub.status.idle": "2022-02-10T12:01:16.707488Z",
     "shell.execute_reply": "2022-02-10T12:01:16.708002Z",
     "shell.execute_reply.started": "2022-02-10T11:56:31.457568Z"
    },
    "papermill": {
     "duration": 0.06156,
     "end_time": "2022-02-10T12:01:16.708337",
     "exception": false,
     "start_time": "2022-02-10T12:01:16.646777",
     "status": "completed"
    },
    "tags": []
   },
   "outputs": [],
   "source": [
    "# This Python 3 environment comes with many helpful analytics libraries installed\n",
    "# It is defined by the kaggle/python Docker image: https://github.com/kaggle/docker-python\n",
    "# For example, here's several helpful packages to load\n",
    "\n",
    "import numpy as np # linear algebra\n",
    "import pandas as pd # data processing, CSV file I/O (e.g. pd.read_csv)\n",
    "\n",
    "# Input data files are available in the read-only \"../input/\" directory\n",
    "# For example, running this (by clicking run or pressing Shift+Enter) will list all files under the input directory\n",
    "\n",
    "import os\n",
    "for dirname, _, filenames in os.walk('/kaggle/input'):\n",
    "    for filename in filenames:\n",
    "        print(os.path.join(dirname, filename))\n",
    "\n",
    "# You can write up to 20GB to the current directory (/kaggle/working/) that gets preserved as output when you create a version using \"Save & Run All\" \n",
    "# You can also write temporary files to /kaggle/temp/, but they won't be saved outside of the current session"
   ]
  },
  {
   "cell_type": "code",
   "execution_count": 2,
   "id": "7be2df44",
   "metadata": {
    "execution": {
     "iopub.execute_input": "2022-02-10T12:01:16.783235Z",
     "iopub.status.busy": "2022-02-10T12:01:16.782564Z",
     "iopub.status.idle": "2022-02-10T12:01:16.786036Z",
     "shell.execute_reply": "2022-02-10T12:01:16.786626Z",
     "shell.execute_reply.started": "2022-02-10T11:56:31.473708Z"
    },
    "papermill": {
     "duration": 0.042636,
     "end_time": "2022-02-10T12:01:16.786806",
     "exception": false,
     "start_time": "2022-02-10T12:01:16.744170",
     "status": "completed"
    },
    "tags": []
   },
   "outputs": [],
   "source": [
    "import warnings\n",
    "warnings.filterwarnings('ignore')"
   ]
  },
  {
   "cell_type": "code",
   "execution_count": 5,
   "id": "465b80d0",
   "metadata": {
    "execution": {
     "iopub.execute_input": "2022-02-10T12:01:16.861615Z",
     "iopub.status.busy": "2022-02-10T12:01:16.860896Z",
     "iopub.status.idle": "2022-02-10T12:01:16.918548Z",
     "shell.execute_reply": "2022-02-10T12:01:16.917958Z",
     "shell.execute_reply.started": "2022-02-10T11:56:31.490287Z"
    },
    "papermill": {
     "duration": 0.096982,
     "end_time": "2022-02-10T12:01:16.918705",
     "exception": false,
     "start_time": "2022-02-10T12:01:16.821723",
     "status": "completed"
    },
    "tags": []
   },
   "outputs": [],
   "source": [
    "df = pd.read_csv(\"./train.csv\")"
   ]
  },
  {
   "cell_type": "code",
   "execution_count": 6,
   "id": "7adc1ffa",
   "metadata": {
    "execution": {
     "iopub.execute_input": "2022-02-10T12:01:16.993291Z",
     "iopub.status.busy": "2022-02-10T12:01:16.992277Z",
     "iopub.status.idle": "2022-02-10T12:01:17.015931Z",
     "shell.execute_reply": "2022-02-10T12:01:17.016477Z",
     "shell.execute_reply.started": "2022-02-10T11:56:31.543181Z"
    },
    "papermill": {
     "duration": 0.062226,
     "end_time": "2022-02-10T12:01:17.016670",
     "exception": false,
     "start_time": "2022-02-10T12:01:16.954444",
     "status": "completed"
    },
    "tags": []
   },
   "outputs": [
    {
     "data": {
      "text/html": [
       "<div>\n",
       "<style scoped>\n",
       "    .dataframe tbody tr th:only-of-type {\n",
       "        vertical-align: middle;\n",
       "    }\n",
       "\n",
       "    .dataframe tbody tr th {\n",
       "        vertical-align: top;\n",
       "    }\n",
       "\n",
       "    .dataframe thead th {\n",
       "        text-align: right;\n",
       "    }\n",
       "</style>\n",
       "<table border=\"1\" class=\"dataframe\">\n",
       "  <thead>\n",
       "    <tr style=\"text-align: right;\">\n",
       "      <th></th>\n",
       "      <th>vidid</th>\n",
       "      <th>adview</th>\n",
       "      <th>views</th>\n",
       "      <th>likes</th>\n",
       "      <th>dislikes</th>\n",
       "      <th>comment</th>\n",
       "      <th>published</th>\n",
       "      <th>duration</th>\n",
       "      <th>category</th>\n",
       "    </tr>\n",
       "  </thead>\n",
       "  <tbody>\n",
       "    <tr>\n",
       "      <th>0</th>\n",
       "      <td>VID_18655</td>\n",
       "      <td>40</td>\n",
       "      <td>1031602</td>\n",
       "      <td>8523</td>\n",
       "      <td>363</td>\n",
       "      <td>1095</td>\n",
       "      <td>2016-09-14</td>\n",
       "      <td>PT7M37S</td>\n",
       "      <td>F</td>\n",
       "    </tr>\n",
       "    <tr>\n",
       "      <th>1</th>\n",
       "      <td>VID_14135</td>\n",
       "      <td>2</td>\n",
       "      <td>1707</td>\n",
       "      <td>56</td>\n",
       "      <td>2</td>\n",
       "      <td>6</td>\n",
       "      <td>2016-10-01</td>\n",
       "      <td>PT9M30S</td>\n",
       "      <td>D</td>\n",
       "    </tr>\n",
       "    <tr>\n",
       "      <th>2</th>\n",
       "      <td>VID_2187</td>\n",
       "      <td>1</td>\n",
       "      <td>2023</td>\n",
       "      <td>25</td>\n",
       "      <td>0</td>\n",
       "      <td>2</td>\n",
       "      <td>2016-07-02</td>\n",
       "      <td>PT2M16S</td>\n",
       "      <td>C</td>\n",
       "    </tr>\n",
       "    <tr>\n",
       "      <th>3</th>\n",
       "      <td>VID_23096</td>\n",
       "      <td>6</td>\n",
       "      <td>620860</td>\n",
       "      <td>777</td>\n",
       "      <td>161</td>\n",
       "      <td>153</td>\n",
       "      <td>2016-07-27</td>\n",
       "      <td>PT4M22S</td>\n",
       "      <td>H</td>\n",
       "    </tr>\n",
       "    <tr>\n",
       "      <th>4</th>\n",
       "      <td>VID_10175</td>\n",
       "      <td>1</td>\n",
       "      <td>666</td>\n",
       "      <td>1</td>\n",
       "      <td>0</td>\n",
       "      <td>0</td>\n",
       "      <td>2016-06-29</td>\n",
       "      <td>PT31S</td>\n",
       "      <td>D</td>\n",
       "    </tr>\n",
       "  </tbody>\n",
       "</table>\n",
       "</div>"
      ],
      "text/plain": [
       "       vidid  adview    views likes dislikes comment   published duration  \\\n",
       "0  VID_18655      40  1031602  8523      363    1095  2016-09-14  PT7M37S   \n",
       "1  VID_14135       2     1707    56        2       6  2016-10-01  PT9M30S   \n",
       "2   VID_2187       1     2023    25        0       2  2016-07-02  PT2M16S   \n",
       "3  VID_23096       6   620860   777      161     153  2016-07-27  PT4M22S   \n",
       "4  VID_10175       1      666     1        0       0  2016-06-29    PT31S   \n",
       "\n",
       "  category  \n",
       "0        F  \n",
       "1        D  \n",
       "2        C  \n",
       "3        H  \n",
       "4        D  "
      ]
     },
     "execution_count": 6,
     "metadata": {},
     "output_type": "execute_result"
    }
   ],
   "source": [
    "df.head()"
   ]
  },
  {
   "cell_type": "code",
   "execution_count": 7,
   "id": "6aad503d",
   "metadata": {
    "execution": {
     "iopub.execute_input": "2022-02-10T12:01:17.092511Z",
     "iopub.status.busy": "2022-02-10T12:01:17.091482Z",
     "iopub.status.idle": "2022-02-10T12:01:17.096993Z",
     "shell.execute_reply": "2022-02-10T12:01:17.097470Z",
     "shell.execute_reply.started": "2022-02-10T11:56:31.566239Z"
    },
    "papermill": {
     "duration": 0.045397,
     "end_time": "2022-02-10T12:01:17.097653",
     "exception": false,
     "start_time": "2022-02-10T12:01:17.052256",
     "status": "completed"
    },
    "tags": []
   },
   "outputs": [
    {
     "data": {
      "text/plain": [
       "(14999, 9)"
      ]
     },
     "execution_count": 7,
     "metadata": {},
     "output_type": "execute_result"
    }
   ],
   "source": [
    "df.shape"
   ]
  },
  {
   "cell_type": "code",
   "execution_count": 8,
   "id": "eba89d0a",
   "metadata": {
    "execution": {
     "iopub.execute_input": "2022-02-10T12:01:17.174677Z",
     "iopub.status.busy": "2022-02-10T12:01:17.173646Z",
     "iopub.status.idle": "2022-02-10T12:01:17.180516Z",
     "shell.execute_reply": "2022-02-10T12:01:17.180993Z",
     "shell.execute_reply.started": "2022-02-10T11:56:31.575089Z"
    },
    "papermill": {
     "duration": 0.04621,
     "end_time": "2022-02-10T12:01:17.181194",
     "exception": false,
     "start_time": "2022-02-10T12:01:17.134984",
     "status": "completed"
    },
    "tags": []
   },
   "outputs": [
    {
     "data": {
      "text/plain": [
       "vidid        object\n",
       "adview        int64\n",
       "views        object\n",
       "likes        object\n",
       "dislikes     object\n",
       "comment      object\n",
       "published    object\n",
       "duration     object\n",
       "category     object\n",
       "dtype: object"
      ]
     },
     "execution_count": 8,
     "metadata": {},
     "output_type": "execute_result"
    }
   ],
   "source": [
    "df.dtypes"
   ]
  },
  {
   "cell_type": "code",
   "execution_count": 9,
   "id": "6cc36084",
   "metadata": {
    "execution": {
     "iopub.execute_input": "2022-02-10T12:01:17.265791Z",
     "iopub.status.busy": "2022-02-10T12:01:17.265026Z",
     "iopub.status.idle": "2022-02-10T12:01:17.288744Z",
     "shell.execute_reply": "2022-02-10T12:01:17.288106Z",
     "shell.execute_reply.started": "2022-02-10T11:56:31.592772Z"
    },
    "papermill": {
     "duration": 0.06893,
     "end_time": "2022-02-10T12:01:17.288926",
     "exception": false,
     "start_time": "2022-02-10T12:01:17.219996",
     "status": "completed"
    },
    "tags": []
   },
   "outputs": [
    {
     "data": {
      "text/html": [
       "<div>\n",
       "<style scoped>\n",
       "    .dataframe tbody tr th:only-of-type {\n",
       "        vertical-align: middle;\n",
       "    }\n",
       "\n",
       "    .dataframe tbody tr th {\n",
       "        vertical-align: top;\n",
       "    }\n",
       "\n",
       "    .dataframe thead th {\n",
       "        text-align: right;\n",
       "    }\n",
       "</style>\n",
       "<table border=\"1\" class=\"dataframe\">\n",
       "  <thead>\n",
       "    <tr style=\"text-align: right;\">\n",
       "      <th></th>\n",
       "      <th>vidid</th>\n",
       "      <th>adview</th>\n",
       "      <th>views</th>\n",
       "      <th>likes</th>\n",
       "      <th>dislikes</th>\n",
       "      <th>comment</th>\n",
       "      <th>published</th>\n",
       "      <th>duration</th>\n",
       "      <th>category</th>\n",
       "    </tr>\n",
       "  </thead>\n",
       "  <tbody>\n",
       "    <tr>\n",
       "      <th>0</th>\n",
       "      <td>VID_18655</td>\n",
       "      <td>40</td>\n",
       "      <td>1031602</td>\n",
       "      <td>8523</td>\n",
       "      <td>363</td>\n",
       "      <td>1095</td>\n",
       "      <td>2016-09-14</td>\n",
       "      <td>PT7M37S</td>\n",
       "      <td>6</td>\n",
       "    </tr>\n",
       "    <tr>\n",
       "      <th>1</th>\n",
       "      <td>VID_14135</td>\n",
       "      <td>2</td>\n",
       "      <td>1707</td>\n",
       "      <td>56</td>\n",
       "      <td>2</td>\n",
       "      <td>6</td>\n",
       "      <td>2016-10-01</td>\n",
       "      <td>PT9M30S</td>\n",
       "      <td>4</td>\n",
       "    </tr>\n",
       "    <tr>\n",
       "      <th>2</th>\n",
       "      <td>VID_2187</td>\n",
       "      <td>1</td>\n",
       "      <td>2023</td>\n",
       "      <td>25</td>\n",
       "      <td>0</td>\n",
       "      <td>2</td>\n",
       "      <td>2016-07-02</td>\n",
       "      <td>PT2M16S</td>\n",
       "      <td>3</td>\n",
       "    </tr>\n",
       "    <tr>\n",
       "      <th>3</th>\n",
       "      <td>VID_23096</td>\n",
       "      <td>6</td>\n",
       "      <td>620860</td>\n",
       "      <td>777</td>\n",
       "      <td>161</td>\n",
       "      <td>153</td>\n",
       "      <td>2016-07-27</td>\n",
       "      <td>PT4M22S</td>\n",
       "      <td>8</td>\n",
       "    </tr>\n",
       "    <tr>\n",
       "      <th>4</th>\n",
       "      <td>VID_10175</td>\n",
       "      <td>1</td>\n",
       "      <td>666</td>\n",
       "      <td>1</td>\n",
       "      <td>0</td>\n",
       "      <td>0</td>\n",
       "      <td>2016-06-29</td>\n",
       "      <td>PT31S</td>\n",
       "      <td>4</td>\n",
       "    </tr>\n",
       "  </tbody>\n",
       "</table>\n",
       "</div>"
      ],
      "text/plain": [
       "       vidid  adview    views likes dislikes comment   published duration  \\\n",
       "0  VID_18655      40  1031602  8523      363    1095  2016-09-14  PT7M37S   \n",
       "1  VID_14135       2     1707    56        2       6  2016-10-01  PT9M30S   \n",
       "2   VID_2187       1     2023    25        0       2  2016-07-02  PT2M16S   \n",
       "3  VID_23096       6   620860   777      161     153  2016-07-27  PT4M22S   \n",
       "4  VID_10175       1      666     1        0       0  2016-06-29    PT31S   \n",
       "\n",
       "   category  \n",
       "0         6  \n",
       "1         4  \n",
       "2         3  \n",
       "3         8  \n",
       "4         4  "
      ]
     },
     "execution_count": 9,
     "metadata": {},
     "output_type": "execute_result"
    }
   ],
   "source": [
    "category={'A': 1,'B': 2,'C': 3,'D': 4,'E': 5,'F': 6,'G': 7,'H': 8,}\n",
    "df[\"category\"]=df[\"category\"].map(category)\n",
    "df.head()"
   ]
  },
  {
   "cell_type": "code",
   "execution_count": 10,
   "id": "a7560bd0",
   "metadata": {
    "execution": {
     "iopub.execute_input": "2022-02-10T12:01:17.373085Z",
     "iopub.status.busy": "2022-02-10T12:01:17.371903Z",
     "iopub.status.idle": "2022-02-10T12:01:17.391332Z",
     "shell.execute_reply": "2022-02-10T12:01:17.391828Z",
     "shell.execute_reply.started": "2022-02-10T11:56:31.614960Z"
    },
    "papermill": {
     "duration": 0.06611,
     "end_time": "2022-02-10T12:01:17.392030",
     "exception": false,
     "start_time": "2022-02-10T12:01:17.325920",
     "status": "completed"
    },
    "tags": []
   },
   "outputs": [],
   "source": [
    "df=df[df.views!='F']\n",
    "df=df[df.likes!='F']\n",
    "df=df[df.dislikes!='F']\n",
    "df=df[df.comment!='F']"
   ]
  },
  {
   "cell_type": "code",
   "execution_count": 11,
   "id": "2fa50261",
   "metadata": {
    "execution": {
     "iopub.execute_input": "2022-02-10T12:01:17.488433Z",
     "iopub.status.busy": "2022-02-10T12:01:17.487324Z",
     "iopub.status.idle": "2022-02-10T12:01:17.534683Z",
     "shell.execute_reply": "2022-02-10T12:01:17.535206Z",
     "shell.execute_reply.started": "2022-02-10T11:56:31.636501Z"
    },
    "papermill": {
     "duration": 0.106662,
     "end_time": "2022-02-10T12:01:17.535403",
     "exception": false,
     "start_time": "2022-02-10T12:01:17.428741",
     "status": "completed"
    },
    "tags": []
   },
   "outputs": [],
   "source": [
    "df[\"views\"]=pd.to_numeric(df[\"views\"])\n",
    "df[\"comment\"]=pd.to_numeric(df[\"comment\"])\n",
    "df[\"likes\"]=pd.to_numeric(df[\"likes\"])\n",
    "df[\"dislikes\"]=pd.to_numeric(df[\"dislikes\"])\n",
    "df[\"adview\"]=pd.to_numeric(df[\"adview\"])"
   ]
  },
  {
   "cell_type": "code",
   "execution_count": 12,
   "id": "08d8a307",
   "metadata": {
    "execution": {
     "iopub.execute_input": "2022-02-10T12:01:17.614570Z",
     "iopub.status.busy": "2022-02-10T12:01:17.613513Z",
     "iopub.status.idle": "2022-02-10T12:01:17.637981Z",
     "shell.execute_reply": "2022-02-10T12:01:17.638620Z",
     "shell.execute_reply.started": "2022-02-10T11:56:31.679593Z"
    },
    "papermill": {
     "duration": 0.066345,
     "end_time": "2022-02-10T12:01:17.638801",
     "exception": false,
     "start_time": "2022-02-10T12:01:17.572456",
     "status": "completed"
    },
    "tags": []
   },
   "outputs": [
    {
     "name": "stdout",
     "output_type": "stream",
     "text": [
      "<class 'pandas.core.frame.DataFrame'>\n",
      "Int64Index: 14637 entries, 0 to 14998\n",
      "Data columns (total 9 columns):\n",
      " #   Column     Non-Null Count  Dtype \n",
      "---  ------     --------------  ----- \n",
      " 0   vidid      14637 non-null  object\n",
      " 1   adview     14637 non-null  int64 \n",
      " 2   views      14637 non-null  int64 \n",
      " 3   likes      14637 non-null  int64 \n",
      " 4   dislikes   14637 non-null  int64 \n",
      " 5   comment    14637 non-null  int64 \n",
      " 6   published  14637 non-null  object\n",
      " 7   duration   14637 non-null  object\n",
      " 8   category   14637 non-null  int64 \n",
      "dtypes: int64(6), object(3)\n",
      "memory usage: 1.1+ MB\n"
     ]
    }
   ],
   "source": [
    "df.info()"
   ]
  },
  {
   "cell_type": "code",
   "execution_count": 13,
   "id": "0bb5b783",
   "metadata": {
    "execution": {
     "iopub.execute_input": "2022-02-10T12:01:17.717606Z",
     "iopub.status.busy": "2022-02-10T12:01:17.716877Z",
     "iopub.status.idle": "2022-02-10T12:01:17.720579Z",
     "shell.execute_reply": "2022-02-10T12:01:17.721120Z",
     "shell.execute_reply.started": "2022-02-10T11:56:31.700110Z"
    },
    "papermill": {
     "duration": 0.044344,
     "end_time": "2022-02-10T12:01:17.721315",
     "exception": false,
     "start_time": "2022-02-10T12:01:17.676971",
     "status": "completed"
    },
    "tags": []
   },
   "outputs": [],
   "source": [
    "column_vidid=df['vidid']"
   ]
  },
  {
   "cell_type": "code",
   "execution_count": 14,
   "id": "4f3ad845",
   "metadata": {
    "execution": {
     "iopub.execute_input": "2022-02-10T12:01:17.799380Z",
     "iopub.status.busy": "2022-02-10T12:01:17.798641Z",
     "iopub.status.idle": "2022-02-10T12:01:18.977632Z",
     "shell.execute_reply": "2022-02-10T12:01:18.977044Z",
     "shell.execute_reply.started": "2022-02-10T11:56:31.705977Z"
    },
    "papermill": {
     "duration": 1.219205,
     "end_time": "2022-02-10T12:01:18.977791",
     "exception": false,
     "start_time": "2022-02-10T12:01:17.758586",
     "status": "completed"
    },
    "tags": []
   },
   "outputs": [],
   "source": [
    "from sklearn.preprocessing import LabelEncoder"
   ]
  },
  {
   "cell_type": "code",
   "execution_count": 15,
   "id": "9d263e03",
   "metadata": {
    "execution": {
     "iopub.execute_input": "2022-02-10T12:01:19.066124Z",
     "iopub.status.busy": "2022-02-10T12:01:19.065403Z",
     "iopub.status.idle": "2022-02-10T12:01:19.091866Z",
     "shell.execute_reply": "2022-02-10T12:01:19.092405Z",
     "shell.execute_reply.started": "2022-02-10T11:56:32.178723Z"
    },
    "papermill": {
     "duration": 0.077044,
     "end_time": "2022-02-10T12:01:19.092597",
     "exception": false,
     "start_time": "2022-02-10T12:01:19.015553",
     "status": "completed"
    },
    "tags": []
   },
   "outputs": [],
   "source": [
    "df['duration']=LabelEncoder().fit_transform(df['duration'])\n",
    "df['vidid']=LabelEncoder().fit_transform(df['vidid'])\n",
    "df['published']=LabelEncoder().fit_transform(df['published'])"
   ]
  },
  {
   "cell_type": "code",
   "execution_count": 16,
   "id": "767f31a1",
   "metadata": {
    "execution": {
     "iopub.execute_input": "2022-02-10T12:01:19.172061Z",
     "iopub.status.busy": "2022-02-10T12:01:19.171354Z",
     "iopub.status.idle": "2022-02-10T12:01:19.182488Z",
     "shell.execute_reply": "2022-02-10T12:01:19.183181Z",
     "shell.execute_reply.started": "2022-02-10T11:56:32.212738Z"
    },
    "papermill": {
     "duration": 0.053203,
     "end_time": "2022-02-10T12:01:19.183396",
     "exception": false,
     "start_time": "2022-02-10T12:01:19.130193",
     "status": "completed"
    },
    "tags": []
   },
   "outputs": [
    {
     "data": {
      "text/html": [
       "<div>\n",
       "<style scoped>\n",
       "    .dataframe tbody tr th:only-of-type {\n",
       "        vertical-align: middle;\n",
       "    }\n",
       "\n",
       "    .dataframe tbody tr th {\n",
       "        vertical-align: top;\n",
       "    }\n",
       "\n",
       "    .dataframe thead th {\n",
       "        text-align: right;\n",
       "    }\n",
       "</style>\n",
       "<table border=\"1\" class=\"dataframe\">\n",
       "  <thead>\n",
       "    <tr style=\"text-align: right;\">\n",
       "      <th></th>\n",
       "      <th>vidid</th>\n",
       "      <th>adview</th>\n",
       "      <th>views</th>\n",
       "      <th>likes</th>\n",
       "      <th>dislikes</th>\n",
       "      <th>comment</th>\n",
       "      <th>published</th>\n",
       "      <th>duration</th>\n",
       "      <th>category</th>\n",
       "    </tr>\n",
       "  </thead>\n",
       "  <tbody>\n",
       "    <tr>\n",
       "      <th>0</th>\n",
       "      <td>5912</td>\n",
       "      <td>40</td>\n",
       "      <td>1031602</td>\n",
       "      <td>8523</td>\n",
       "      <td>363</td>\n",
       "      <td>1095</td>\n",
       "      <td>2168</td>\n",
       "      <td>2925</td>\n",
       "      <td>6</td>\n",
       "    </tr>\n",
       "    <tr>\n",
       "      <th>1</th>\n",
       "      <td>2741</td>\n",
       "      <td>2</td>\n",
       "      <td>1707</td>\n",
       "      <td>56</td>\n",
       "      <td>2</td>\n",
       "      <td>6</td>\n",
       "      <td>2185</td>\n",
       "      <td>3040</td>\n",
       "      <td>4</td>\n",
       "    </tr>\n",
       "    <tr>\n",
       "      <th>2</th>\n",
       "      <td>8138</td>\n",
       "      <td>1</td>\n",
       "      <td>2023</td>\n",
       "      <td>25</td>\n",
       "      <td>0</td>\n",
       "      <td>2</td>\n",
       "      <td>2094</td>\n",
       "      <td>1863</td>\n",
       "      <td>3</td>\n",
       "    </tr>\n",
       "    <tr>\n",
       "      <th>3</th>\n",
       "      <td>9005</td>\n",
       "      <td>6</td>\n",
       "      <td>620860</td>\n",
       "      <td>777</td>\n",
       "      <td>161</td>\n",
       "      <td>153</td>\n",
       "      <td>2119</td>\n",
       "      <td>2546</td>\n",
       "      <td>8</td>\n",
       "    </tr>\n",
       "    <tr>\n",
       "      <th>4</th>\n",
       "      <td>122</td>\n",
       "      <td>1</td>\n",
       "      <td>666</td>\n",
       "      <td>1</td>\n",
       "      <td>0</td>\n",
       "      <td>0</td>\n",
       "      <td>2091</td>\n",
       "      <td>1963</td>\n",
       "      <td>4</td>\n",
       "    </tr>\n",
       "  </tbody>\n",
       "</table>\n",
       "</div>"
      ],
      "text/plain": [
       "   vidid  adview    views  likes  dislikes  comment  published  duration  \\\n",
       "0   5912      40  1031602   8523       363     1095       2168      2925   \n",
       "1   2741       2     1707     56         2        6       2185      3040   \n",
       "2   8138       1     2023     25         0        2       2094      1863   \n",
       "3   9005       6   620860    777       161      153       2119      2546   \n",
       "4    122       1      666      1         0        0       2091      1963   \n",
       "\n",
       "   category  \n",
       "0         6  \n",
       "1         4  \n",
       "2         3  \n",
       "3         8  \n",
       "4         4  "
      ]
     },
     "execution_count": 16,
     "metadata": {},
     "output_type": "execute_result"
    }
   ],
   "source": [
    "df.head()"
   ]
  },
  {
   "cell_type": "code",
   "execution_count": 17,
   "id": "310b5833",
   "metadata": {
    "execution": {
     "iopub.execute_input": "2022-02-10T12:01:19.268272Z",
     "iopub.status.busy": "2022-02-10T12:01:19.267493Z",
     "iopub.status.idle": "2022-02-10T12:01:19.270617Z",
     "shell.execute_reply": "2022-02-10T12:01:19.269654Z",
     "shell.execute_reply.started": "2022-02-10T11:56:32.234394Z"
    },
    "papermill": {
     "duration": 0.047404,
     "end_time": "2022-02-10T12:01:19.270799",
     "exception": false,
     "start_time": "2022-02-10T12:01:19.223395",
     "status": "completed"
    },
    "tags": []
   },
   "outputs": [],
   "source": [
    "import datetime\n",
    "import time"
   ]
  },
  {
   "cell_type": "code",
   "execution_count": 19,
   "id": "df26a9eb",
   "metadata": {
    "execution": {
     "iopub.execute_input": "2022-02-10T12:01:19.359628Z",
     "iopub.status.busy": "2022-02-10T12:01:19.358629Z",
     "iopub.status.idle": "2022-02-10T12:01:19.481204Z",
     "shell.execute_reply": "2022-02-10T12:01:19.480594Z",
     "shell.execute_reply.started": "2022-02-10T11:56:32.249689Z"
    },
    "papermill": {
     "duration": 0.171781,
     "end_time": "2022-02-10T12:01:19.481368",
     "exception": false,
     "start_time": "2022-02-10T12:01:19.309587",
     "status": "completed"
    },
    "tags": []
   },
   "outputs": [],
   "source": [
    "def checki(x):\n",
    "  y=x[2:]\n",
    "  h=''\n",
    "  m=''\n",
    "  s=''\n",
    "  mm=''\n",
    "  p= ['H','M','S']\n",
    "  for i in y:\n",
    "    if i not in p:\n",
    "      mm+=i\n",
    "    else:\n",
    "      if(i==\"H\"):\n",
    "        h=mm\n",
    "        mm=''\n",
    "      elif(i==\"M\"):\n",
    "        m=mm\n",
    "        mm=''\n",
    "      else:\n",
    "        s=mm\n",
    "        mm=''\n",
    "  if(h==''):\n",
    "    h='00'\n",
    "  if(m==''):\n",
    "    m='00'\n",
    "  if(s==''):\n",
    "    m='00'\n",
    "  bp = h+':'+m+':'+s\n",
    "  return bp\n",
    "train = pd.read_csv(\"./train.csv\")\n",
    "mp=pd.read_csv(\"./train.csv\")[\"duration\"]\n",
    "time=mp.apply(checki)"
   ]
  },
  {
   "cell_type": "code",
   "execution_count": 20,
   "id": "d8983eaa",
   "metadata": {
    "execution": {
     "iopub.execute_input": "2022-02-10T12:01:19.565874Z",
     "iopub.status.busy": "2022-02-10T12:01:19.564971Z",
     "iopub.status.idle": "2022-02-10T12:01:19.578360Z",
     "shell.execute_reply": "2022-02-10T12:01:19.577675Z",
     "shell.execute_reply.started": "2022-02-10T11:56:32.344327Z"
    },
    "papermill": {
     "duration": 0.059045,
     "end_time": "2022-02-10T12:01:19.578536",
     "exception": false,
     "start_time": "2022-02-10T12:01:19.519491",
     "status": "completed"
    },
    "tags": []
   },
   "outputs": [
    {
     "name": "stdout",
     "output_type": "stream",
     "text": [
      "<class 'pandas.core.frame.DataFrame'>\n",
      "Int64Index: 14637 entries, 0 to 14998\n",
      "Data columns (total 9 columns):\n",
      " #   Column     Non-Null Count  Dtype\n",
      "---  ------     --------------  -----\n",
      " 0   vidid      14637 non-null  int32\n",
      " 1   adview     14637 non-null  int64\n",
      " 2   views      14637 non-null  int64\n",
      " 3   likes      14637 non-null  int64\n",
      " 4   dislikes   14637 non-null  int64\n",
      " 5   comment    14637 non-null  int64\n",
      " 6   published  14637 non-null  int32\n",
      " 7   duration   14637 non-null  int32\n",
      " 8   category   14637 non-null  int64\n",
      "dtypes: int32(3), int64(6)\n",
      "memory usage: 972.0 KB\n"
     ]
    }
   ],
   "source": [
    "df.info()"
   ]
  },
  {
   "cell_type": "code",
   "execution_count": 21,
   "id": "7bf0c477",
   "metadata": {
    "execution": {
     "iopub.execute_input": "2022-02-10T12:01:19.664647Z",
     "iopub.status.busy": "2022-02-10T12:01:19.663877Z",
     "iopub.status.idle": "2022-02-10T12:01:19.673528Z",
     "shell.execute_reply": "2022-02-10T12:01:19.674111Z",
     "shell.execute_reply.started": "2022-02-10T11:56:32.361027Z"
    },
    "papermill": {
     "duration": 0.0571,
     "end_time": "2022-02-10T12:01:19.674316",
     "exception": false,
     "start_time": "2022-02-10T12:01:19.617216",
     "status": "completed"
    },
    "tags": []
   },
   "outputs": [
    {
     "data": {
      "text/html": [
       "<div>\n",
       "<style scoped>\n",
       "    .dataframe tbody tr th:only-of-type {\n",
       "        vertical-align: middle;\n",
       "    }\n",
       "\n",
       "    .dataframe tbody tr th {\n",
       "        vertical-align: top;\n",
       "    }\n",
       "\n",
       "    .dataframe thead th {\n",
       "        text-align: right;\n",
       "    }\n",
       "</style>\n",
       "<table border=\"1\" class=\"dataframe\">\n",
       "  <thead>\n",
       "    <tr style=\"text-align: right;\">\n",
       "      <th></th>\n",
       "      <th>vidid</th>\n",
       "      <th>adview</th>\n",
       "      <th>views</th>\n",
       "      <th>likes</th>\n",
       "      <th>dislikes</th>\n",
       "      <th>comment</th>\n",
       "      <th>published</th>\n",
       "      <th>duration</th>\n",
       "      <th>category</th>\n",
       "    </tr>\n",
       "  </thead>\n",
       "  <tbody>\n",
       "    <tr>\n",
       "      <th>0</th>\n",
       "      <td>5912</td>\n",
       "      <td>40</td>\n",
       "      <td>1031602</td>\n",
       "      <td>8523</td>\n",
       "      <td>363</td>\n",
       "      <td>1095</td>\n",
       "      <td>2168</td>\n",
       "      <td>2925</td>\n",
       "      <td>6</td>\n",
       "    </tr>\n",
       "    <tr>\n",
       "      <th>1</th>\n",
       "      <td>2741</td>\n",
       "      <td>2</td>\n",
       "      <td>1707</td>\n",
       "      <td>56</td>\n",
       "      <td>2</td>\n",
       "      <td>6</td>\n",
       "      <td>2185</td>\n",
       "      <td>3040</td>\n",
       "      <td>4</td>\n",
       "    </tr>\n",
       "    <tr>\n",
       "      <th>2</th>\n",
       "      <td>8138</td>\n",
       "      <td>1</td>\n",
       "      <td>2023</td>\n",
       "      <td>25</td>\n",
       "      <td>0</td>\n",
       "      <td>2</td>\n",
       "      <td>2094</td>\n",
       "      <td>1863</td>\n",
       "      <td>3</td>\n",
       "    </tr>\n",
       "    <tr>\n",
       "      <th>3</th>\n",
       "      <td>9005</td>\n",
       "      <td>6</td>\n",
       "      <td>620860</td>\n",
       "      <td>777</td>\n",
       "      <td>161</td>\n",
       "      <td>153</td>\n",
       "      <td>2119</td>\n",
       "      <td>2546</td>\n",
       "      <td>8</td>\n",
       "    </tr>\n",
       "    <tr>\n",
       "      <th>4</th>\n",
       "      <td>122</td>\n",
       "      <td>1</td>\n",
       "      <td>666</td>\n",
       "      <td>1</td>\n",
       "      <td>0</td>\n",
       "      <td>0</td>\n",
       "      <td>2091</td>\n",
       "      <td>1963</td>\n",
       "      <td>4</td>\n",
       "    </tr>\n",
       "  </tbody>\n",
       "</table>\n",
       "</div>"
      ],
      "text/plain": [
       "   vidid  adview    views  likes  dislikes  comment  published  duration  \\\n",
       "0   5912      40  1031602   8523       363     1095       2168      2925   \n",
       "1   2741       2     1707     56         2        6       2185      3040   \n",
       "2   8138       1     2023     25         0        2       2094      1863   \n",
       "3   9005       6   620860    777       161      153       2119      2546   \n",
       "4    122       1      666      1         0        0       2091      1963   \n",
       "\n",
       "   category  \n",
       "0         6  \n",
       "1         4  \n",
       "2         3  \n",
       "3         8  \n",
       "4         4  "
      ]
     },
     "execution_count": 21,
     "metadata": {},
     "output_type": "execute_result"
    }
   ],
   "source": [
    "def func_sec(time_string):\n",
    "  h , m, s=time_string.split(':')\n",
    "  return int(h) * 3600 + int(m) * 60 + int(s)\n",
    "\n",
    "  time1=time.apply(func_sec)\n",
    "  df[\"duration\"]=time1\n",
    "df.head()"
   ]
  },
  {
   "cell_type": "code",
   "execution_count": 22,
   "id": "7ca672e6",
   "metadata": {
    "execution": {
     "iopub.execute_input": "2022-02-10T12:01:19.763831Z",
     "iopub.status.busy": "2022-02-10T12:01:19.758191Z",
     "iopub.status.idle": "2022-02-10T12:01:19.839899Z",
     "shell.execute_reply": "2022-02-10T12:01:19.839259Z",
     "shell.execute_reply.started": "2022-02-10T11:56:32.377040Z"
    },
    "papermill": {
     "duration": 0.12669,
     "end_time": "2022-02-10T12:01:19.840057",
     "exception": false,
     "start_time": "2022-02-10T12:01:19.713367",
     "status": "completed"
    },
    "tags": []
   },
   "outputs": [
    {
     "data": {
      "text/plain": [
       "(11709, 7)"
      ]
     },
     "execution_count": 22,
     "metadata": {},
     "output_type": "execute_result"
    }
   ],
   "source": [
    "# Split Data\n",
    "Y_train = pd.DataFrame(data = df.iloc[:, 1].values, columns = ['target'])\n",
    "df=df.drop([\"adview\"],axis=1)\n",
    "df=df.drop([\"vidid\"],axis=1)\n",
    "df.head()\n",
    "\n",
    "from sklearn.model_selection import train_test_split\n",
    "X_train, X_test, y_train, y_test = train_test_split(df, Y_train, test_size=0.2, random_state=42)\n",
    "\n",
    "X_train.shape\n",
    "\n"
   ]
  },
  {
   "cell_type": "code",
   "execution_count": 23,
   "id": "84fb146d",
   "metadata": {
    "execution": {
     "iopub.execute_input": "2022-02-10T12:01:19.929227Z",
     "iopub.status.busy": "2022-02-10T12:01:19.928463Z",
     "iopub.status.idle": "2022-02-10T12:01:19.938688Z",
     "shell.execute_reply": "2022-02-10T12:01:19.939297Z",
     "shell.execute_reply.started": "2022-02-10T11:56:32.413267Z"
    },
    "papermill": {
     "duration": 0.057554,
     "end_time": "2022-02-10T12:01:19.939498",
     "exception": false,
     "start_time": "2022-02-10T12:01:19.881944",
     "status": "completed"
    },
    "tags": []
   },
   "outputs": [
    {
     "data": {
      "text/plain": [
       "0.25583174881891707"
      ]
     },
     "execution_count": 23,
     "metadata": {},
     "output_type": "execute_result"
    }
   ],
   "source": [
    "# Normalise Data\n",
    "from sklearn.preprocessing import MinMaxScaler\n",
    "scaler = MinMaxScaler()\n",
    "X_train=scaler.fit_transform(X_train)\n",
    "X_test=scaler.fit_transform(X_test)\n",
    "\n",
    "X_train.mean()"
   ]
  },
  {
   "cell_type": "code",
   "execution_count": 24,
   "id": "e1233394",
   "metadata": {
    "execution": {
     "iopub.execute_input": "2022-02-10T12:01:20.027742Z",
     "iopub.status.busy": "2022-02-10T12:01:20.026888Z",
     "iopub.status.idle": "2022-02-10T12:01:20.035198Z",
     "shell.execute_reply": "2022-02-10T12:01:20.034243Z",
     "shell.execute_reply.started": "2022-02-10T11:56:32.431624Z"
    },
    "papermill": {
     "duration": 0.053487,
     "end_time": "2022-02-10T12:01:20.035378",
     "exception": false,
     "start_time": "2022-02-10T12:01:19.981891",
     "status": "completed"
    },
    "tags": []
   },
   "outputs": [],
   "source": [
    "# Evaluation Metrics\n",
    "from sklearn import metrics\n",
    "def print_error(X_test, y_test, model_name):\n",
    "  prediction = model_name.predict(X_test)\n",
    "  print('Mean Absolute Error:', metrics.mean_absolute_error(y_test, prediction))\n",
    "  print('Mean Squared Error:', metrics.mean_squared_error(y_test, prediction))\n",
    "  print('Root Mean Squared Error:', np.sqrt(metrics.mean_squared_error(y_test, prediction)))\n"
   ]
  },
  {
   "cell_type": "code",
   "execution_count": 25,
   "id": "6ecfd36d",
   "metadata": {
    "execution": {
     "iopub.execute_input": "2022-02-10T12:01:20.120579Z",
     "iopub.status.busy": "2022-02-10T12:01:20.119612Z",
     "iopub.status.idle": "2022-02-10T12:01:20.261310Z",
     "shell.execute_reply": "2022-02-10T12:01:20.262426Z",
     "shell.execute_reply.started": "2022-02-10T11:56:32.439667Z"
    },
    "papermill": {
     "duration": 0.185268,
     "end_time": "2022-02-10T12:01:20.262718",
     "exception": false,
     "start_time": "2022-02-10T12:01:20.077450",
     "status": "completed"
    },
    "tags": []
   },
   "outputs": [
    {
     "name": "stdout",
     "output_type": "stream",
     "text": [
      "Mean Absolute Error: 5288.146964612727\n",
      "Mean Squared Error: 10881576714.292877\n",
      "Root Mean Squared Error: 104314.7962385628\n"
     ]
    }
   ],
   "source": [
    "# Linear Regression\n",
    "from sklearn import linear_model\n",
    "linear_regression = linear_model.LinearRegression()\n",
    "linear_regression.fit(X_train, y_train)\n",
    "print_error(X_test,y_test, linear_regression)"
   ]
  },
  {
   "cell_type": "code",
   "execution_count": 26,
   "id": "84d5b7c5",
   "metadata": {
    "execution": {
     "iopub.execute_input": "2022-02-10T12:01:20.425662Z",
     "iopub.status.busy": "2022-02-10T12:01:20.424917Z",
     "iopub.status.idle": "2022-02-10T12:01:29.335316Z",
     "shell.execute_reply": "2022-02-10T12:01:29.334605Z",
     "shell.execute_reply.started": "2022-02-10T11:56:32.489827Z"
    },
    "papermill": {
     "duration": 8.958968,
     "end_time": "2022-02-10T12:01:29.335478",
     "exception": false,
     "start_time": "2022-02-10T12:01:20.376510",
     "status": "completed"
    },
    "tags": []
   },
   "outputs": [
    {
     "name": "stdout",
     "output_type": "stream",
     "text": [
      "Mean Absolute Error: 3478.055764043397\n",
      "Mean Squared Error: 10901273757.728346\n",
      "Root Mean Squared Error: 104409.16510406711\n"
     ]
    }
   ],
   "source": [
    "# Support Vector Regressor\n",
    "from sklearn.svm import SVR\n",
    "supportvector_regressor = SVR()\n",
    "supportvector_regressor.fit(X_train,y_train)\n",
    "print_error(X_test,y_test, supportvector_regressor)"
   ]
  },
  {
   "cell_type": "code",
   "execution_count": 27,
   "id": "79de58d6",
   "metadata": {
    "execution": {
     "iopub.execute_input": "2022-02-10T12:01:29.421684Z",
     "iopub.status.busy": "2022-02-10T12:01:29.420856Z",
     "iopub.status.idle": "2022-02-10T12:01:29.689921Z",
     "shell.execute_reply": "2022-02-10T12:01:29.689289Z",
     "shell.execute_reply.started": "2022-02-10T11:56:41.567835Z"
    },
    "papermill": {
     "duration": 0.314201,
     "end_time": "2022-02-10T12:01:29.690076",
     "exception": false,
     "start_time": "2022-02-10T12:01:29.375875",
     "status": "completed"
    },
    "tags": []
   },
   "outputs": [
    {
     "name": "stdout",
     "output_type": "stream",
     "text": [
      "Mean Absolute Error: 3998.8859289617485\n",
      "Mean Squared Error: 10565942661.338116\n",
      "Root Mean Squared Error: 102790.77128486834\n"
     ]
    }
   ],
   "source": [
    "# Decision Tree Regressor\n",
    "from sklearn.tree import DecisionTreeRegressor\n",
    "decision_tree = DecisionTreeRegressor()\n",
    "decision_tree.fit(X_train, y_train)\n",
    "print_error(X_test,y_test, decision_tree)"
   ]
  },
  {
   "cell_type": "code",
   "execution_count": 28,
   "id": "a210beaa",
   "metadata": {
    "execution": {
     "iopub.execute_input": "2022-02-10T12:01:29.776014Z",
     "iopub.status.busy": "2022-02-10T12:01:29.775301Z",
     "iopub.status.idle": "2022-02-10T12:01:45.151352Z",
     "shell.execute_reply": "2022-02-10T12:01:45.150302Z",
     "shell.execute_reply.started": "2022-02-10T11:56:41.749870Z"
    },
    "papermill": {
     "duration": 15.421221,
     "end_time": "2022-02-10T12:01:45.151520",
     "exception": false,
     "start_time": "2022-02-10T12:01:29.730299",
     "status": "completed"
    },
    "tags": []
   },
   "outputs": [
    {
     "name": "stdout",
     "output_type": "stream",
     "text": [
      "Mean Absolute Error: 4848.0099861654035\n",
      "Mean Squared Error: 10215261709.562437\n",
      "Root Mean Squared Error: 101070.57786300837\n"
     ]
    }
   ],
   "source": [
    "# Random Forest Regressor\n",
    "from sklearn.ensemble import RandomForestRegressor\n",
    "n_estimators = 200\n",
    "max_depth = 25\n",
    "min_samples_split=15\n",
    "min_samples_leaf=2\n",
    "random_forest = RandomForestRegressor(n_estimators = n_estimators, max_depth = max_depth, min_samples_split=min_samples_split)\n",
    "random_forest.fit(X_train,y_train)\n",
    "print_error(X_test,y_test, random_forest)"
   ]
  },
  {
   "cell_type": "code",
   "execution_count": 31,
   "id": "96d39384",
   "metadata": {
    "execution": {
     "iopub.execute_input": "2022-02-10T12:01:45.236755Z",
     "iopub.status.busy": "2022-02-10T12:01:45.235680Z",
     "iopub.status.idle": "2022-02-10T12:01:51.445926Z",
     "shell.execute_reply": "2022-02-10T12:01:51.445313Z",
     "shell.execute_reply.started": "2022-02-10T11:56:57.095173Z"
    },
    "papermill": {
     "duration": 6.253825,
     "end_time": "2022-02-10T12:01:51.446094",
     "exception": false,
     "start_time": "2022-02-10T12:01:45.192269",
     "status": "completed"
    },
    "tags": []
   },
   "outputs": [
    {
     "name": "stdout",
     "output_type": "stream",
     "text": [
      "WARNING:tensorflow:From C:\\Users\\Lenovo\\AppData\\Local\\Packages\\PythonSoftwareFoundation.Python.3.10_qbz5n2kfra8p0\\LocalCache\\local-packages\\Python310\\site-packages\\keras\\src\\losses.py:2976: The name tf.losses.sparse_softmax_cross_entropy is deprecated. Please use tf.compat.v1.losses.sparse_softmax_cross_entropy instead.\n",
      "\n"
     ]
    }
   ],
   "source": [
    "# Artificial Neural Network\n",
    "from tensorflow import keras\n",
    "from keras.layers import Dense"
   ]
  },
  {
   "cell_type": "code",
   "execution_count": 35,
   "id": "ba913cab",
   "metadata": {
    "execution": {
     "iopub.execute_input": "2022-02-10T12:01:51.536021Z",
     "iopub.status.busy": "2022-02-10T12:01:51.535315Z",
     "iopub.status.idle": "2022-02-10T12:02:50.658315Z",
     "shell.execute_reply": "2022-02-10T12:02:50.657714Z",
     "shell.execute_reply.started": "2022-02-10T11:56:58.821923Z"
    },
    "papermill": {
     "duration": 59.171251,
     "end_time": "2022-02-10T12:02:50.658473",
     "exception": false,
     "start_time": "2022-02-10T12:01:51.487222",
     "status": "completed"
    },
    "tags": []
   },
   "outputs": [
    {
     "name": "stdout",
     "output_type": "stream",
     "text": [
      "Epoch 1/100\n",
      "366/366 [==============================] - 2s 2ms/step - loss: 767618560.0000 - mean_squared_error: 767618560.0000\n",
      "Epoch 2/100\n",
      "366/366 [==============================] - 1s 2ms/step - loss: 767613696.0000 - mean_squared_error: 767613696.0000\n",
      "Epoch 3/100\n",
      "366/366 [==============================] - 1s 2ms/step - loss: 767603840.0000 - mean_squared_error: 767603840.0000\n",
      "Epoch 4/100\n",
      "366/366 [==============================] - 1s 2ms/step - loss: 767587072.0000 - mean_squared_error: 767587072.0000\n",
      "Epoch 5/100\n",
      "366/366 [==============================] - 1s 2ms/step - loss: 767562496.0000 - mean_squared_error: 767562496.0000\n",
      "Epoch 6/100\n",
      "366/366 [==============================] - 1s 3ms/step - loss: 767525760.0000 - mean_squared_error: 767525760.0000\n",
      "Epoch 7/100\n",
      "366/366 [==============================] - 1s 3ms/step - loss: 767465664.0000 - mean_squared_error: 767465664.0000\n",
      "Epoch 8/100\n",
      "366/366 [==============================] - 1s 2ms/step - loss: 767387392.0000 - mean_squared_error: 767387392.0000\n",
      "Epoch 9/100\n",
      "366/366 [==============================] - 1s 2ms/step - loss: 767298048.0000 - mean_squared_error: 767298048.0000\n",
      "Epoch 10/100\n",
      "366/366 [==============================] - 1s 2ms/step - loss: 767196928.0000 - mean_squared_error: 767196928.0000\n",
      "Epoch 11/100\n",
      "366/366 [==============================] - 1s 2ms/step - loss: 767084992.0000 - mean_squared_error: 767084992.0000\n",
      "Epoch 12/100\n",
      "366/366 [==============================] - 1s 2ms/step - loss: 766966400.0000 - mean_squared_error: 766966400.0000\n",
      "Epoch 13/100\n",
      "366/366 [==============================] - 1s 2ms/step - loss: 766844352.0000 - mean_squared_error: 766844352.0000\n",
      "Epoch 14/100\n",
      "366/366 [==============================] - 1s 2ms/step - loss: 766709824.0000 - mean_squared_error: 766709824.0000\n",
      "Epoch 15/100\n",
      "366/366 [==============================] - 1s 2ms/step - loss: 766569856.0000 - mean_squared_error: 766569856.0000\n",
      "Epoch 16/100\n",
      "366/366 [==============================] - 1s 2ms/step - loss: 766422656.0000 - mean_squared_error: 766422656.0000\n",
      "Epoch 17/100\n",
      "366/366 [==============================] - 1s 2ms/step - loss: 766276224.0000 - mean_squared_error: 766276224.0000\n",
      "Epoch 18/100\n",
      "366/366 [==============================] - 1s 2ms/step - loss: 766130240.0000 - mean_squared_error: 766130240.0000\n",
      "Epoch 19/100\n",
      "366/366 [==============================] - 1s 2ms/step - loss: 765983488.0000 - mean_squared_error: 765983488.0000\n",
      "Epoch 20/100\n",
      "366/366 [==============================] - 1s 2ms/step - loss: 765836992.0000 - mean_squared_error: 765836992.0000\n",
      "Epoch 21/100\n",
      "366/366 [==============================] - 1s 2ms/step - loss: 765704320.0000 - mean_squared_error: 765704320.0000\n",
      "Epoch 22/100\n",
      "366/366 [==============================] - 1s 2ms/step - loss: 765572352.0000 - mean_squared_error: 765572352.0000\n",
      "Epoch 23/100\n",
      "366/366 [==============================] - 1s 2ms/step - loss: 765446720.0000 - mean_squared_error: 765446720.0000\n",
      "Epoch 24/100\n",
      "366/366 [==============================] - 1s 2ms/step - loss: 765326080.0000 - mean_squared_error: 765326080.0000\n",
      "Epoch 25/100\n",
      "366/366 [==============================] - 1s 2ms/step - loss: 765213760.0000 - mean_squared_error: 765213760.0000\n",
      "Epoch 26/100\n",
      "366/366 [==============================] - 1s 2ms/step - loss: 765103104.0000 - mean_squared_error: 765103104.0000\n",
      "Epoch 27/100\n",
      "366/366 [==============================] - 1s 2ms/step - loss: 765002496.0000 - mean_squared_error: 765002496.0000\n",
      "Epoch 28/100\n",
      "366/366 [==============================] - 1s 2ms/step - loss: 764908288.0000 - mean_squared_error: 764908288.0000\n",
      "Epoch 29/100\n",
      "366/366 [==============================] - 1s 2ms/step - loss: 764817024.0000 - mean_squared_error: 764817024.0000\n",
      "Epoch 30/100\n",
      "366/366 [==============================] - 1s 2ms/step - loss: 764738240.0000 - mean_squared_error: 764738240.0000\n",
      "Epoch 31/100\n",
      "366/366 [==============================] - 1s 2ms/step - loss: 764666752.0000 - mean_squared_error: 764666752.0000\n",
      "Epoch 32/100\n",
      "366/366 [==============================] - 1s 2ms/step - loss: 764590464.0000 - mean_squared_error: 764590464.0000\n",
      "Epoch 33/100\n",
      "366/366 [==============================] - 1s 2ms/step - loss: 764525632.0000 - mean_squared_error: 764525632.0000\n",
      "Epoch 34/100\n",
      "366/366 [==============================] - 1s 2ms/step - loss: 764466368.0000 - mean_squared_error: 764466368.0000\n",
      "Epoch 35/100\n",
      "366/366 [==============================] - 1s 2ms/step - loss: 764412096.0000 - mean_squared_error: 764412096.0000\n",
      "Epoch 36/100\n",
      "366/366 [==============================] - 1s 2ms/step - loss: 764356928.0000 - mean_squared_error: 764356928.0000\n",
      "Epoch 37/100\n",
      "366/366 [==============================] - 1s 2ms/step - loss: 764315968.0000 - mean_squared_error: 764315968.0000\n",
      "Epoch 38/100\n",
      "366/366 [==============================] - 1s 2ms/step - loss: 764268864.0000 - mean_squared_error: 764268864.0000\n",
      "Epoch 39/100\n",
      "366/366 [==============================] - 1s 3ms/step - loss: 764228864.0000 - mean_squared_error: 764228864.0000\n",
      "Epoch 40/100\n",
      "366/366 [==============================] - 1s 2ms/step - loss: 764192512.0000 - mean_squared_error: 764192512.0000\n",
      "Epoch 41/100\n",
      "366/366 [==============================] - 1s 2ms/step - loss: 764154560.0000 - mean_squared_error: 764154560.0000\n",
      "Epoch 42/100\n",
      "366/366 [==============================] - 1s 3ms/step - loss: 764121024.0000 - mean_squared_error: 764121024.0000\n",
      "Epoch 43/100\n",
      "366/366 [==============================] - 1s 2ms/step - loss: 764090112.0000 - mean_squared_error: 764090112.0000\n",
      "Epoch 44/100\n",
      "366/366 [==============================] - 1s 2ms/step - loss: 764056576.0000 - mean_squared_error: 764056576.0000\n",
      "Epoch 45/100\n",
      "366/366 [==============================] - 1s 2ms/step - loss: 764033024.0000 - mean_squared_error: 764033024.0000\n",
      "Epoch 46/100\n",
      "366/366 [==============================] - 1s 2ms/step - loss: 764003648.0000 - mean_squared_error: 764003648.0000\n",
      "Epoch 47/100\n",
      "366/366 [==============================] - 1s 3ms/step - loss: 763977408.0000 - mean_squared_error: 763977408.0000\n",
      "Epoch 48/100\n",
      "366/366 [==============================] - 1s 2ms/step - loss: 763955008.0000 - mean_squared_error: 763955008.0000\n",
      "Epoch 49/100\n",
      "366/366 [==============================] - 1s 2ms/step - loss: 763929856.0000 - mean_squared_error: 763929856.0000\n",
      "Epoch 50/100\n",
      "366/366 [==============================] - 1s 2ms/step - loss: 763903936.0000 - mean_squared_error: 763903936.0000\n",
      "Epoch 51/100\n",
      "366/366 [==============================] - 1s 2ms/step - loss: 763880832.0000 - mean_squared_error: 763880832.0000\n",
      "Epoch 52/100\n",
      "366/366 [==============================] - 1s 2ms/step - loss: 763857600.0000 - mean_squared_error: 763857600.0000\n",
      "Epoch 53/100\n",
      "366/366 [==============================] - 1s 2ms/step - loss: 763838208.0000 - mean_squared_error: 763838208.0000\n",
      "Epoch 54/100\n",
      "366/366 [==============================] - 1s 2ms/step - loss: 763817152.0000 - mean_squared_error: 763817152.0000\n",
      "Epoch 55/100\n",
      "366/366 [==============================] - 1s 2ms/step - loss: 763797376.0000 - mean_squared_error: 763797376.0000\n",
      "Epoch 56/100\n",
      "366/366 [==============================] - 1s 2ms/step - loss: 763773120.0000 - mean_squared_error: 763773120.0000\n",
      "Epoch 57/100\n",
      "366/366 [==============================] - 1s 2ms/step - loss: 763755392.0000 - mean_squared_error: 763755392.0000\n",
      "Epoch 58/100\n",
      "366/366 [==============================] - 1s 2ms/step - loss: 763730496.0000 - mean_squared_error: 763730496.0000\n",
      "Epoch 59/100\n",
      "366/366 [==============================] - 1s 2ms/step - loss: 763708224.0000 - mean_squared_error: 763708224.0000\n",
      "Epoch 60/100\n",
      "366/366 [==============================] - 1s 2ms/step - loss: 763691968.0000 - mean_squared_error: 763691968.0000\n",
      "Epoch 61/100\n",
      "366/366 [==============================] - 1s 2ms/step - loss: 763674368.0000 - mean_squared_error: 763674368.0000\n",
      "Epoch 62/100\n",
      "366/366 [==============================] - 1s 2ms/step - loss: 763648000.0000 - mean_squared_error: 763648000.0000\n",
      "Epoch 63/100\n",
      "366/366 [==============================] - 1s 2ms/step - loss: 763626624.0000 - mean_squared_error: 763626624.0000\n",
      "Epoch 64/100\n",
      "366/366 [==============================] - 1s 2ms/step - loss: 763612480.0000 - mean_squared_error: 763612480.0000\n",
      "Epoch 65/100\n",
      "366/366 [==============================] - 1s 2ms/step - loss: 763582464.0000 - mean_squared_error: 763582464.0000\n",
      "Epoch 66/100\n",
      "366/366 [==============================] - 1s 2ms/step - loss: 763566272.0000 - mean_squared_error: 763566272.0000\n",
      "Epoch 67/100\n",
      "366/366 [==============================] - 1s 2ms/step - loss: 763548224.0000 - mean_squared_error: 763548224.0000\n",
      "Epoch 68/100\n",
      "366/366 [==============================] - 1s 2ms/step - loss: 763529472.0000 - mean_squared_error: 763529472.0000\n",
      "Epoch 69/100\n",
      "366/366 [==============================] - 1s 2ms/step - loss: 763506496.0000 - mean_squared_error: 763506496.0000\n",
      "Epoch 70/100\n",
      "366/366 [==============================] - 1s 2ms/step - loss: 763488960.0000 - mean_squared_error: 763488960.0000\n",
      "Epoch 71/100\n",
      "366/366 [==============================] - 1s 2ms/step - loss: 763462208.0000 - mean_squared_error: 763462208.0000\n",
      "Epoch 72/100\n",
      "366/366 [==============================] - 1s 2ms/step - loss: 763443840.0000 - mean_squared_error: 763443840.0000\n",
      "Epoch 73/100\n",
      "366/366 [==============================] - 1s 2ms/step - loss: 763426304.0000 - mean_squared_error: 763426304.0000\n",
      "Epoch 74/100\n",
      "366/366 [==============================] - 1s 2ms/step - loss: 763406016.0000 - mean_squared_error: 763406016.0000\n",
      "Epoch 75/100\n",
      "366/366 [==============================] - 1s 2ms/step - loss: 763384192.0000 - mean_squared_error: 763384192.0000\n",
      "Epoch 76/100\n",
      "366/366 [==============================] - 1s 2ms/step - loss: 763368640.0000 - mean_squared_error: 763368640.0000\n",
      "Epoch 77/100\n",
      "366/366 [==============================] - 1s 2ms/step - loss: 763342912.0000 - mean_squared_error: 763342912.0000\n",
      "Epoch 78/100\n",
      "366/366 [==============================] - 1s 2ms/step - loss: 763318016.0000 - mean_squared_error: 763318016.0000\n",
      "Epoch 79/100\n",
      "366/366 [==============================] - 1s 2ms/step - loss: 763315328.0000 - mean_squared_error: 763315328.0000\n",
      "Epoch 80/100\n",
      "366/366 [==============================] - 1s 2ms/step - loss: 763281856.0000 - mean_squared_error: 763281856.0000\n",
      "Epoch 81/100\n",
      "366/366 [==============================] - 1s 2ms/step - loss: 763262208.0000 - mean_squared_error: 763262208.0000\n",
      "Epoch 82/100\n",
      "366/366 [==============================] - 1s 2ms/step - loss: 763252224.0000 - mean_squared_error: 763252224.0000\n",
      "Epoch 83/100\n",
      "366/366 [==============================] - 1s 2ms/step - loss: 763218624.0000 - mean_squared_error: 763218624.0000\n",
      "Epoch 84/100\n",
      "366/366 [==============================] - 1s 2ms/step - loss: 763205952.0000 - mean_squared_error: 763205952.0000\n",
      "Epoch 85/100\n",
      "366/366 [==============================] - 1s 2ms/step - loss: 763179840.0000 - mean_squared_error: 763179840.0000\n",
      "Epoch 86/100\n",
      "366/366 [==============================] - 1s 2ms/step - loss: 763157888.0000 - mean_squared_error: 763157888.0000\n",
      "Epoch 87/100\n",
      "366/366 [==============================] - 1s 2ms/step - loss: 763141056.0000 - mean_squared_error: 763141056.0000\n",
      "Epoch 88/100\n",
      "366/366 [==============================] - 1s 2ms/step - loss: 763115200.0000 - mean_squared_error: 763115200.0000\n",
      "Epoch 89/100\n",
      "366/366 [==============================] - 1s 2ms/step - loss: 763115008.0000 - mean_squared_error: 763115008.0000\n",
      "Epoch 90/100\n",
      "366/366 [==============================] - 1s 2ms/step - loss: 763077632.0000 - mean_squared_error: 763077632.0000\n",
      "Epoch 91/100\n",
      "366/366 [==============================] - 1s 2ms/step - loss: 763060928.0000 - mean_squared_error: 763060928.0000\n",
      "Epoch 92/100\n",
      "366/366 [==============================] - 1s 2ms/step - loss: 763040320.0000 - mean_squared_error: 763040320.0000\n",
      "Epoch 93/100\n",
      "366/366 [==============================] - 1s 2ms/step - loss: 763019968.0000 - mean_squared_error: 763019968.0000\n",
      "Epoch 94/100\n",
      "366/366 [==============================] - 1s 2ms/step - loss: 763006272.0000 - mean_squared_error: 763006272.0000\n",
      "Epoch 95/100\n",
      "366/366 [==============================] - 1s 2ms/step - loss: 762988608.0000 - mean_squared_error: 762988608.0000\n",
      "Epoch 96/100\n",
      "366/366 [==============================] - 1s 2ms/step - loss: 762967616.0000 - mean_squared_error: 762967616.0000\n",
      "Epoch 97/100\n",
      "366/366 [==============================] - 1s 2ms/step - loss: 762946304.0000 - mean_squared_error: 762946304.0000\n",
      "Epoch 98/100\n",
      "366/366 [==============================] - 1s 2ms/step - loss: 762938304.0000 - mean_squared_error: 762938304.0000\n",
      "Epoch 99/100\n",
      "366/366 [==============================] - 1s 2ms/step - loss: 762914240.0000 - mean_squared_error: 762914240.0000\n",
      "Epoch 100/100\n",
      "366/366 [==============================] - 1s 2ms/step - loss: 762891712.0000 - mean_squared_error: 762891712.0000\n",
      "92/92 [==============================] - 0s 1ms/step\n",
      "Mean Absolute Error: 4994.834458824064\n",
      "Mean Squared Error: 10884982908.69055\n",
      "Root Mean Squared Error: 104331.12147720138\n"
     ]
    }
   ],
   "source": [
    "ann = keras.models.Sequential([\n",
    "                                Dense(6, activation=\"relu\",\n",
    "                                input_shape=X_train.shape[1:]),\n",
    "                                Dense(6,activation=\"relu\"),\n",
    "                                Dense(1)\n",
    "                                ])\n",
    "\n",
    "optimizer=keras.optimizers.Adam()\n",
    "loss=keras.losses.mean_squared_error\n",
    "ann.compile(optimizer=optimizer,loss=loss,metrics=[\"mean_squared_error\"])\n",
    "\n",
    "history=ann.fit(X_train,y_train,epochs=100)\n",
    "\n",
    "print_error(X_test,y_test,ann)"
   ]
  },
  {
   "cell_type": "code",
   "execution_count": 33,
   "id": "856bf5fd",
   "metadata": {
    "execution": {
     "iopub.execute_input": "2022-02-10T12:02:51.577004Z",
     "iopub.status.busy": "2022-02-10T12:02:51.576204Z",
     "iopub.status.idle": "2022-02-10T12:02:51.612498Z",
     "shell.execute_reply": "2022-02-10T12:02:51.613012Z",
     "shell.execute_reply.started": "2022-02-10T11:58:21.551249Z"
    },
    "papermill": {
     "duration": 0.520679,
     "end_time": "2022-02-10T12:02:51.613258",
     "exception": false,
     "start_time": "2022-02-10T12:02:51.092579",
     "status": "completed"
    },
    "tags": []
   },
   "outputs": [],
   "source": [
    "#Saving Scikitlearn models\n",
    "import joblib\n",
    "joblib.dump(supportvector_regressor, \"SVR_youtubeadview.pkl\")\n",
    "# Saving Keras Artificial Neural Network model\n",
    "ann.save(\"ann_youtubeadview.h5\")"
   ]
  }
 ],
 "metadata": {
  "kernelspec": {
   "display_name": "Python 3",
   "language": "python",
   "name": "python3"
  },
  "language_info": {
   "codemirror_mode": {
    "name": "ipython",
    "version": 3
   },
   "file_extension": ".py",
   "mimetype": "text/x-python",
   "name": "python",
   "nbconvert_exporter": "python",
   "pygments_lexer": "ipython3",
   "version": "3.10.11"
  },
  "papermill": {
   "default_parameters": {},
   "duration": 124.109432,
   "end_time": "2022-02-10T12:03:09.612053",
   "environment_variables": {},
   "exception": null,
   "input_path": "__notebook__.ipynb",
   "output_path": "__notebook__.ipynb",
   "parameters": {},
   "start_time": "2022-02-10T12:01:05.502621",
   "version": "2.3.3"
  }
 },
 "nbformat": 4,
 "nbformat_minor": 5
}
